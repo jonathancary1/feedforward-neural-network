{
 "cells": [
  {
   "cell_type": "markdown",
   "metadata": {},
   "source": [
    "# A Feedforward Neural Network\n",
    "\n",
    "This document shows the implementation of a feedforward neural network made using the network module.\n",
    "\n",
    "## Structure\n",
    "\n",
    "The neural network which we will construct will have an input layer of 784 neurons, a hidden layer of 128 neurons using rectified linear units, and an output layer of 10 neurons using softmax. In order to avoid saturation in the softmax layer, cross entropy will be used for calculating the loss.\n",
    "\n",
    "## Loading the Data\n",
    "\n",
    "We start by loading our training and test data using built in functions for the MNIST database."
   ]
  },
  {
   "cell_type": "code",
   "execution_count": 1,
   "metadata": {},
   "outputs": [],
   "source": [
    "from network import mnist_image_file\n",
    "from network import mnist_label_file\n",
    "\n",
    "test_images = mnist_image_file(\"t10k-images.idx3-ubyte\")\n",
    "test_labels = mnist_label_file(\"t10k-labels.idx1-ubyte\")\n",
    "\n",
    "train_images = mnist_image_file(\"train-images.idx3-ubyte\")\n",
    "train_labels = mnist_label_file(\"train-labels.idx1-ubyte\")"
   ]
  },
  {
   "cell_type": "markdown",
   "metadata": {},
   "source": [
    "With the training and test data successfully loaded, we preview the first four images below."
   ]
  },
  {
   "cell_type": "code",
   "execution_count": 2,
   "metadata": {},
   "outputs": [
    {
     "data": {
      "image/png": "[encoded data removed]",
      "text/plain": [
       "<Figure size 432x288 with 4 Axes>"
      ]
     },
     "metadata": {
      "needs_background": "light"
     },
     "output_type": "display_data"
    }
   ],
   "source": [
    "from matplotlib import pyplot as plt\n",
    "\n",
    "def plot_image(image, label):\n",
    "    plt.title(f\"Label: {label}\")\n",
    "    plt.gca().axes.get_yaxis().set_visible(False)\n",
    "    plt.gca().axes.get_xaxis().set_visible(False)\n",
    "    plt.imshow(image, cmap='gray_r')\n",
    "\n",
    "for i in range(4):\n",
    "    plt.subplot(1, 4, i + 1)\n",
    "    plot_image(train_images[i], train_labels[i])"
   ]
  },
  {
   "cell_type": "markdown",
   "metadata": {},
   "source": [
    "We now format our data to be used by the neural network. The 28x28 pixel images are flattened into 784 dimensional vectors, and their labels are one-hot encoded into 10 dimensional vectors."
   ]
  },
  {
   "cell_type": "code",
   "execution_count": 3,
   "metadata": {},
   "outputs": [],
   "source": [
    "import numpy as np\n",
    "\n",
    "def images_to_vectors(images):\n",
    "    number_of_images, rows, columns = images.shape\n",
    "    number_of_pixels = rows * columns\n",
    "    return images.reshape((number_of_images, number_of_pixels)) / 255.0\n",
    "\n",
    "def labels_to_vectors(labels):\n",
    "    vectors = np.zeros((len(labels), 10))\n",
    "    vectors[np.arange(len(labels)), labels] = 1.0\n",
    "    return vectors\n",
    "\n",
    "test_input_vectors = images_to_vectors(test_images)\n",
    "test_output_vectors = labels_to_vectors(test_labels)\n",
    "\n",
    "train_input_vectors = images_to_vectors(train_images)\n",
    "train_output_vectors = labels_to_vectors(train_labels)"
   ]
  },
  {
   "cell_type": "markdown",
   "metadata": {},
   "source": [
    "## Constructing the Neural Network\n",
    "\n",
    "With our data loaded and preprocessed, we now initialize the neural network with the structure described above."
   ]
  },
  {
   "cell_type": "code",
   "execution_count": 4,
   "metadata": {},
   "outputs": [],
   "source": [
    "from network import FeedforwardNeuralNetwork\n",
    "from network import AffineTransformationLayer\n",
    "from network import ReluLayer\n",
    "from network import SoftmaxLayer\n",
    "from network import CrossEntropy\n",
    "\n",
    "input_size = train_input_vectors.shape[1]\n",
    "output_size = train_output_vectors.shape[1]\n",
    "\n",
    "network = FeedforwardNeuralNetwork(\n",
    "    AffineTransformationLayer(input_size, 128),\n",
    "    ReluLayer(128),\n",
    "    AffineTransformationLayer(128, output_size),\n",
    "    SoftmaxLayer(output_size),\n",
    "    cost=CrossEntropy(output_size)\n",
    ")"
   ]
  },
  {
   "cell_type": "markdown",
   "metadata": {},
   "source": [
    "## Training the Neural Network\n",
    "\n",
    "Finally, we begin training the network using mini-batch gradient descent with a batch-size of 30 for 8 epochs."
   ]
  },
  {
   "cell_type": "code",
   "execution_count": 5,
   "metadata": {},
   "outputs": [
    {
     "name": "stdout",
     "output_type": "stream",
     "text": [
      "start of epoch 0:\n",
      "train_error = 0.88908, test_error = 0.88930\n",
      "start of epoch 1:\n",
      "train_error = 0.05408, test_error = 0.05490\n",
      "start of epoch 2:\n",
      "train_error = 0.03218, test_error = 0.03610\n",
      "start of epoch 3:\n",
      "train_error = 0.02453, test_error = 0.03000\n",
      "start of epoch 4:\n",
      "train_error = 0.01813, test_error = 0.02740\n",
      "start of epoch 5:\n",
      "train_error = 0.01373, test_error = 0.02430\n",
      "start of epoch 6:\n",
      "train_error = 0.01260, test_error = 0.02410\n",
      "start of epoch 7:\n",
      "train_error = 0.01172, test_error = 0.02560\n",
      "training complete:\n",
      "train_error = 0.00848, test_error = 0.02260\n"
     ]
    }
   ],
   "source": [
    "def accuracy(input_vectors, output_vectors):\n",
    "    actual = np.argmax(output_vectors, axis=1)\n",
    "    predicted = np.argmax(network.feedforward(input_vectors), axis=1)\n",
    "    return np.sum(np.equal(actual, predicted)) / len(input_vectors)\n",
    "\n",
    "number_of_train_vectors = train_input_vectors.shape[0]\n",
    "number_of_epochs = 8\n",
    "batch_size = 30\n",
    "\n",
    "for epoch in range(number_of_epochs):\n",
    "    train_error = 1.0 - accuracy(train_input_vectors, train_output_vectors)\n",
    "    test_error = 1.0 - accuracy(test_input_vectors, test_output_vectors)\n",
    "    print(f\"start of epoch {epoch}:\")\n",
    "    print(f\"train_error = {train_error:.5f}, test_error = {test_error:.5f}\")\n",
    "    \n",
    "    permutation = np.arange(number_of_train_vectors)\n",
    "    np.random.shuffle(permutation)\n",
    "    \n",
    "    for i in range(0, number_of_train_vectors, batch_size):\n",
    "        j = min(i + batch_size, number_of_train_vectors)\n",
    "        indices = permutation[np.arange(i, j)]\n",
    "        input_vector_batch = train_input_vectors[indices]\n",
    "        output_vector_batch = train_output_vectors[indices]\n",
    "        activations = network.activations(input_vector_batch)\n",
    "        network.backpropagate(activations, output_vector_batch, learning_rate=0.1)\n",
    "\n",
    "train_error = 1.0 - accuracy(train_input_vectors, train_output_vectors)\n",
    "test_error = 1.0 - accuracy(test_input_vectors, test_output_vectors)\n",
    "print(f\"training complete:\")\n",
    "print(f\"train_error = {train_error:.5f}, test_error = {test_error:.5f}\")"
   ]
  },
  {
   "cell_type": "markdown",
   "metadata": {},
   "source": [
    "Two examples, one of a correctly labeled image and one of an incorrectly labeled image, are shown below."
   ]
  },
  {
   "cell_type": "code",
   "execution_count": 6,
   "metadata": {},
   "outputs": [
    {
     "data": {
      "image/png": "[encoded data removed]",
      "text/plain": [
       "<Figure size 432x288 with 4 Axes>"
      ]
     },
     "metadata": {
      "needs_background": "light"
     },
     "output_type": "display_data"
    }
   ],
   "source": [
    "def plot_bar(output_vector_hat):\n",
    "    plt.bar([str(i) for i in range(10)], output_vector_hat)\n",
    "    plt.gca().set_ylim([0.0, 1.0])\n",
    "    plt.gca().set_aspect(10.0)\n",
    "\n",
    "number_of_test_vectors = test_input_vectors.shape[0]\n",
    "\n",
    "for i in range(number_of_test_vectors):\n",
    "    input_vector = test_input_vectors[i]\n",
    "    output_vector = test_output_vectors[i]\n",
    "    output_vector_hat = network.feedforward(np.array([input_vector]))[0]\n",
    "    if np.argmax(output_vector) == np.argmax(output_vector_hat):\n",
    "        plt.subplot(2, 2, 1)\n",
    "        plot_image(test_images[i], test_labels[i])\n",
    "        plt.subplot(2, 2, 3)\n",
    "        plot_bar(output_vector_hat)\n",
    "        break\n",
    "\n",
    "for i in range(number_of_test_vectors):\n",
    "    input_vector = test_input_vectors[i]\n",
    "    output_vector = test_output_vectors[i]\n",
    "    output_vector_hat = network.feedforward(np.array([input_vector]))[0]\n",
    "    if np.argmax(output_vector) != np.argmax(output_vector_hat):\n",
    "        plt.subplot(2, 2, 2)\n",
    "        plot_image(test_images[i], test_labels[i])\n",
    "        plt.subplot(2, 2, 4)\n",
    "        plot_bar(output_vector_hat)\n",
    "        break"
   ]
  }
 ],
 "metadata": {
  "kernelspec": {
   "display_name": "Python 3",
   "language": "python",
   "name": "python3"
  },
  "language_info": {
   "codemirror_mode": {
    "name": "ipython",
    "version": 3
   },
   "file_extension": ".py",
   "mimetype": "text/x-python",
   "name": "python",
   "nbconvert_exporter": "python",
   "pygments_lexer": "ipython3",
   "version": "3.8.3"
  }
 },
 "nbformat": 4,
 "nbformat_minor": 4
}
